{
 "cells": [
  {
   "cell_type": "markdown",
   "metadata": {},
   "source": [
    "### So this notebook is the code to find the centroid shift over time for a brown dwarf.\n",
    "\n",
    "I use Lu et al. (2018) to find the centroid shift equation. The equation requires the Einstein radius, which requires the mass of the lens, so we need to do something about that. \n",
    "\n",
    "So, I made the y-axis the centroid shift of a star mass of 5 Mjup. All the mass does is provide magnitude to the centroid shift. Later on we can confirm the shift is greater than our astrometric precision."
   ]
  },
  {
   "cell_type": "code",
   "execution_count": 530,
   "metadata": {},
   "outputs": [],
   "source": [
    "import pandas as pd\n",
    "import numpy as np\n",
    "from matplotlib import pyplot as plt\n",
    "import math\n",
    "\n",
    "from astropy.io import ascii\n",
    "from PyAstronomy import pyasl\n",
    "\n",
    "import seaborn as sns\n",
    "from matplotlib import rcParams\n",
    "\n",
    "rcParams.update({'font.size': 25})"
   ]
  },
  {
   "cell_type": "code",
   "execution_count": 599,
   "metadata": {},
   "outputs": [],
   "source": [
    "#importing the brown dwarfs in\n",
    "candidate_stars = ascii.read('apjsaaf6aft4_ascii.txt', format='tab')\n",
    "candidate_stars.keep_columns(['(1)', '(2)', '(4)', '(6)', '(8)', '(9)'])\n",
    "\n",
    "candidate_stars.rename_column('(1)', 'object_name')\n",
    "candidate_stars.rename_column('(2)', 'J2000_ra')\n",
    "candidate_stars.rename_column('(4)', 'J2000_dec')\n",
    "candidate_stars.rename_column('(6)', 'pi_abs')\n",
    "candidate_stars.rename_column('(8)', 'mu_ra')\n",
    "candidate_stars.rename_column('(9)', 'mu_dec')\n",
    "\n",
    "#keep rows with stars with nearby ephemerides\n",
    "#needs copy to preserve length of table in for loop\n",
    "candidate_stars_2 = candidate_stars.copy()\n",
    "#need different list because .index() cannot do masked columns -- adds lots of unfortunate complexity\n",
    "candidate_stars_2_o = list(candidate_stars_2['object_name'])\n",
    "for i in candidate_stars['object_name']:\n",
    "    if i != 'WISE 0855-0714' and i != 'WISE 0952+1955':\n",
    "        obj_index = candidate_stars_2_o.index(i)\n",
    "        candidate_stars_2.remove_row(obj_index)\n",
    "        candidate_stars_2_o.remove(i)\n",
    "candidate_stars = candidate_stars_2\n",
    "        \n",
    "#importing the path lists in and keeping to 2022\n",
    "path_list_0855 = pd.read_csv('0855-0714_path.csv')\n",
    "#path_list_0855 = path_list_0855.head(37)\n",
    "\n",
    "path_list_0952 = pd.read_csv('0952+1955_path.csv')\n",
    "#path_list_0952 = path_list_0952.head(37)\n",
    "\n",
    "#importing the stars in\n",
    "filename_a = '0855-0714_eph.txt'\n",
    "filename_a_cut = filename_a[:9]\n",
    "\n",
    "filename_b = '0952+1955_eph.txt'\n",
    "filename_b_cut = filename_b[:9]\n",
    "\n",
    "full_filename_a = 'C:\\\\Users\\\\judah\\\\candidate_stars_ephemerides\\\\' + filename_a\n",
    "full_filename_b = 'C:\\\\Users\\\\judah\\\\candidate_stars_ephemerides\\\\' + filename_b\n",
    "\n",
    "#get background star data and filter to ones that concern us\n",
    "background_star_a = pd.read_csv(full_filename_a)\n",
    "background_star_a = background_star_a[background_star_a['decals_id'].isin([7696600349215571, 7696600349215541])]\n",
    "\n",
    "background_star_b = pd.read_csv(full_filename_b)\n",
    "background_star_b = background_star_b[background_star_b['decals_id'].isin([7696610489926820])]\n",
    "\n",
    "#combine both tables\n",
    "background_star = pd.concat([background_star_a, background_star_b])"
   ]
  },
  {
   "cell_type": "markdown",
   "metadata": {},
   "source": [
    "### Now for the funky stuff:\n",
    "I want to run through the brown dwarf path, check the centroid shift at each point, and plot it. I also want to add in a delta_ml colorbar for ease."
   ]
  },
  {
   "cell_type": "code",
   "execution_count": 590,
   "metadata": {},
   "outputs": [],
   "source": [
    "##\n",
    "# check the einstein radius (almost -- look at comment above e_r) for a given dwarf, background star, and separation\n",
    "##\n",
    "def einstein_radius(star_data):\n",
    "    point = 0\n",
    "    parallax = star_data['pi_abs']\n",
    "    for i in range(len(parallax)):\n",
    "        if parallax[i] == ' ':\n",
    "            point = i\n",
    "            break\n",
    "    parallax = float(parallax[:point]) / 1000 #convert from mas to arcseconds      \n",
    "\n",
    "    #basic constants\n",
    "    big_g = 4.3 * math.pow(10, -3) #pc * solar_mass^-1 * (km/s)^2\n",
    "    c_squared = (9 * math.pow(10, 10)) #(km/s)^2\n",
    "    \n",
    "    #calculate eintstein radius / (mass of lens)^(1/2) in mas/(solar masses)^(1/2)\n",
    "    e_r = np.sqrt(4 * 0.01432 * big_g * (1 / c_squared) * parallax) * 206265 * 1000\n",
    "    \n",
    "    return e_r"
   ]
  },
  {
   "cell_type": "code",
   "execution_count": 591,
   "metadata": {},
   "outputs": [],
   "source": [
    "##\n",
    "# calculate and return an array of time, mas / (mass of lens)^(1/2)\n",
    "##\n",
    "def centroid_shift(einstein_radius, path_list, background_star):\n",
    "    shift_list = list()\n",
    "\n",
    "    for i in range(len(path_list)):\n",
    "        theta = pyasl.getAngDist(path_list['RA'][i], path_list['Dec'][i], float(background_star['ra']), float(background_star['dec']))\n",
    "\n",
    "        #convert from radians to arcseconds\n",
    "        theta *= (2 * np.pi * (1 / 360)) * 206264\n",
    "\n",
    "        shift = (einstein_radius * theta) / ((theta ** 2) + 2)\n",
    "        \n",
    "        shift_list.append((path_list['Time'][i], shift))\n",
    "        \n",
    "    return shift_list"
   ]
  },
  {
   "cell_type": "code",
   "execution_count": 600,
   "metadata": {
    "scrolled": false
   },
   "outputs": [],
   "source": [
    "#compute einstein radii and centroid shift plots for all\n",
    "er_0855 = einstein_radius(candidate_stars[0])\n",
    "er_0952 = einstein_radius(candidate_stars[1])\n",
    "\n",
    "shift_0855_a = centroid_shift(er_0855, path_list_0855, background_star.iloc[[0]])\n",
    "shift_0855_a = pd.DataFrame(shift_0855_a, columns=['Time', 'Shift'])\n",
    "\n",
    "shift_0855_b = centroid_shift(er_0855, path_list_0855, background_star.iloc[[1]])\n",
    "shift_0855_b = pd.DataFrame(shift_0855_b, columns=['Time', 'Shift'])\n",
    "\n",
    "shift_0952 = centroid_shift(er_0952, path_list_0952, background_star.iloc[[2]])\n",
    "shift_0952 = pd.DataFrame(shift_0952, columns=['Time', 'Shift'])"
   ]
  },
  {
   "cell_type": "code",
   "execution_count": 601,
   "metadata": {
    "scrolled": true
   },
   "outputs": [
    {
     "data": {
      "image/png": "[encoded data removed]",
      "text/plain": [
       "<Figure size 432x288 with 1 Axes>"
      ]
     },
     "metadata": {},
     "output_type": "display_data"
    }
   ],
   "source": [
    "#plot the three plots\n",
    "with sns.axes_style('darkgrid', {'xtick.bottom': True, 'ytick.left': True}):\n",
    "    sns.set_context('paper')\n",
    "    \n",
    "    plt.title('Centroid shift from: ' + filename_b_cut + ' with Est. Mass')\n",
    "    plt.xlabel(r'$ t $')\n",
    "    plt.ylabel(r'$ \\delta_{c}(t) \\ (mas) $')\n",
    "    \n",
    "    shift_plot = plt.scatter(shift_0952['Time'], shift_0952['Shift'], s= 2)\n",
    "    \n",
    "    #plt.savefig(r'C:\\\\Users\\\\judah\\\\centroid_shift\\\\' + '0952_centroidshift_mass')"
   ]
  },
  {
   "cell_type": "code",
   "execution_count": 373,
   "metadata": {},
   "outputs": [],
   "source": [
    "#make a delta_ml colorbar through the path as well?"
   ]
  }
 ],
 "metadata": {
  "kernelspec": {
   "display_name": "Python 3",
   "language": "python",
   "name": "python3"
  },
  "language_info": {
   "codemirror_mode": {
    "name": "ipython",
    "version": 3
   },
   "file_extension": ".py",
   "mimetype": "text/x-python",
   "name": "python",
   "nbconvert_exporter": "python",
   "pygments_lexer": "ipython3",
   "version": "3.7.1"
  }
 },
 "nbformat": 4,
 "nbformat_minor": 2
}
