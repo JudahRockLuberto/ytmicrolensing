{
 "cells": [
  {
   "cell_type": "markdown",
   "metadata": {},
   "source": [
    "## This notebook is to plot the brown dwarf locations in the sky and see which surveys will give background star data about them.\n",
    "We realized we needed this after using DECaLS and how only 40 of 142 brown dwarfs had background stars near them in DECaLS."
   ]
  },
  {
   "cell_type": "code",
   "execution_count": 62,
   "metadata": {},
   "outputs": [],
   "source": [
    "import matplotlib.pyplot as plt\n",
    "import pandas as pd\n",
    "\n",
    "from astropy.io import ascii"
   ]
  },
  {
   "cell_type": "code",
   "execution_count": 10,
   "metadata": {},
   "outputs": [],
   "source": [
    "#copy and pasting import file information from the microlensing equations file\n",
    "\n",
    "#Reading and formatting ascii table to desired format\n",
    "candidate_stars = ascii.read('apjsaaf6aft4_ascii.txt', format='tab')\n",
    "candidate_stars.keep_columns(['(1)', '(2)', '(4)', '(6)', '(8)', '(9)'])\n",
    "\n",
    "candidate_stars.rename_column('(1)', 'object_name')\n",
    "candidate_stars.rename_column('(2)', 'J2000_ra')\n",
    "candidate_stars.rename_column('(4)', 'J2000_dec')\n",
    "candidate_stars.rename_column('(6)', 'pi_abs')\n",
    "candidate_stars.rename_column('(8)', 'mu_ra')\n",
    "candidate_stars.rename_column('(9)', 'mu_dec')\n",
    "\n",
    "#stars decals that had nearby background_stars. I just manually did this.\n",
    "decals_list = ['2MASS 0034+0523', 'WISE 0038+2758', 'WISE 0049+2151', 'CFBDS 0133+0231', 'WISE 0226-0211AB', 'WISE 0336-0143', 'WISE 0825+2805', 'WISE 0833+0052', 'WISE 0855-0714', 'WISE 0952+1955', 'WISE 1025+0307', 'ULAS 1043+1048', 'WISE 1124-0421', 'ULAS 1152+1134', 'WISE 1217+1626AB', 'WISE 1225-1013', '2MASS 1231+0847', 'WISE 1254-0728', 'WISE 1301-0302', 'VHS 1433-0837', 'WISE 1517+0529', 'WISE 1523+3125', 'WISE 1542+2230', 'WISE 1614+1739', '2MASS 1615+1340', 'WISE 1721+1117', 'WISE 1738+2732', 'WISE 1804+3117', 'WISE 1812+2007', 'WISE 1813+2835', 'WISE 2147-1029', 'WISE 2157+2659', 'WISE 2209+2711', 'WISE 2301+0216', 'WISE 2319-1844', 'ULAS 2321+1354', 'ULAS 2326+0201', 'WISE 2344+1034', 'WISE 2354+0240', 'WISE 2357+1227']"
   ]
  },
  {
   "cell_type": "markdown",
   "metadata": {},
   "source": [
    "To find the list of brown dwarfs in PanSTARRS, I need to format the candidate_stars table a little:"
   ]
  },
  {
   "cell_type": "code",
   "execution_count": 60,
   "metadata": {},
   "outputs": [],
   "source": [
    "candidate_stars.keep_columns(['object_name', 'J2000_ra', 'J2000_dec'])\n",
    "\n",
    "#make into pandas readable form\n",
    "c_s_array = list()\n",
    "for i in candidate_stars:\n",
    "    c_s_array.append((i[0], i[1], i[2]))\n",
    "candidate_stars_df = pd.DataFrame(c_s_array, columns=['target', 'ra', 'dec'])\n",
    "\n",
    "candidate_stars_df.to_csv('cstars_panstarrs.csv', index=False)"
   ]
  },
  {
   "cell_type": "code",
   "execution_count": 30,
   "metadata": {},
   "outputs": [
    {
     "data": {
      "image/png": "[encoded data removed]",
      "text/plain": [
       "<Figure size 432x288 with 1 Axes>"
      ]
     },
     "metadata": {
      "needs_background": "light"
     },
     "output_type": "display_data"
    }
   ],
   "source": [
    "point_list_a, point_list_d, color_list = list(), list(), list()\n",
    "for i in range(len(candidate_stars)):\n",
    "    point_list_a.append(list(candidate_stars['J2000_ra'])[i])\n",
    "    point_list_d.append((candidate_stars['J2000_dec'])[i])\n",
    "    \n",
    "    if list(candidate_stars['object_name'])[i] in decals_list:\n",
    "        color_list.append('black')\n",
    "    else:\n",
    "        color_list.append('red')\n",
    "    \n",
    "plt.scatter(point_list_a, point_list_d, c=color_list, s=0.5)\n",
    "\n",
    "plt.title('Candidate Stars and Surveys')\n",
    "plt.xlabel(r'$ \\alpha_{J2000, deg} $')\n",
    "plt.ylabel(r'$ \\delta_{J2000, deg}$')\n",
    "\n",
    "plt.savefig('surveys_and_dwarfs')"
   ]
  },
  {
   "cell_type": "code",
   "execution_count": 61,
   "metadata": {},
   "outputs": [
    {
     "data": {
      "text/html": [
       "<i>Table masked=True length=142</i>\n",
       "<table id=\"table1720538590680\" class=\"table-striped table-bordered table-condensed\">\n",
       "<thead><tr><th>object_name</th><th>J2000_ra</th><th>J2000_dec</th></tr></thead>\n",
       "<thead><tr><th>str16</th><th>float64</th><th>float64</th></tr></thead>\n",
       "<tr><td>WISE 0005+3737</td><td>1.32412</td><td>37.622066</td></tr>\n",
       "<tr><td>WISE 0015-4615</td><td>3.775288</td><td>-46.255526</td></tr>\n",
       "<tr><td>WISE 0032-4946</td><td>8.128906</td><td>-49.781951</td></tr>\n",
       "<tr><td>2MASS 0034+0523</td><td>8.71741</td><td>5.385402</td></tr>\n",
       "<tr><td>WISE 0038+2758</td><td>9.621136</td><td>27.981175</td></tr>\n",
       "<tr><td>WISE 0049+2151</td><td>12.439742</td><td>21.855396</td></tr>\n",
       "<tr><td>WISE 0123+4142</td><td>20.889465</td><td>41.701367</td></tr>\n",
       "<tr><td>CFBDS 0133+0231</td><td>23.26089</td><td>2.524552</td></tr>\n",
       "<tr><td>WISE 0146+4234AB</td><td>26.73558</td><td>42.569411</td></tr>\n",
       "<tr><td>WISE 0221+3842</td><td>35.275</td><td>38.701001</td></tr>\n",
       "<tr><td>...</td><td>...</td><td>...</td></tr>\n",
       "<tr><td>WISE 2302-7134</td><td>345.619196</td><td>-71.578222</td></tr>\n",
       "<tr><td>WISE 2313-8037</td><td>348.403564</td><td>-80.617175</td></tr>\n",
       "<tr><td>WISE 2319-1844</td><td>349.913188</td><td>-18.734474</td></tr>\n",
       "<tr><td>ULAS 2321+1354</td><td>350.349333</td><td>13.914238</td></tr>\n",
       "<tr><td>ULAS 2326+0201</td><td>351.502016</td><td>2.027545</td></tr>\n",
       "<tr><td>WISE 2332-4325</td><td>353.110751</td><td>-43.419959</td></tr>\n",
       "<tr><td>WISE 2343-7418</td><td>355.965092</td><td>-74.312845</td></tr>\n",
       "<tr><td>WISE 2344+1034</td><td>356.193582</td><td>10.570956</td></tr>\n",
       "<tr><td>WISE 2354+0240</td><td>358.512041</td><td>2.670263</td></tr>\n",
       "<tr><td>WISE 2357+1227</td><td>359.318798</td><td>12.460976</td></tr>\n",
       "</table>"
      ],
      "text/plain": [
       "<Table masked=True length=142>\n",
       "  object_name     J2000_ra  J2000_dec \n",
       "     str16        float64    float64  \n",
       "---------------- ---------- ----------\n",
       "  WISE 0005+3737    1.32412  37.622066\n",
       "  WISE 0015-4615   3.775288 -46.255526\n",
       "  WISE 0032-4946   8.128906 -49.781951\n",
       " 2MASS 0034+0523    8.71741   5.385402\n",
       "  WISE 0038+2758   9.621136  27.981175\n",
       "  WISE 0049+2151  12.439742  21.855396\n",
       "  WISE 0123+4142  20.889465  41.701367\n",
       " CFBDS 0133+0231   23.26089   2.524552\n",
       "WISE 0146+4234AB   26.73558  42.569411\n",
       "  WISE 0221+3842     35.275  38.701001\n",
       "             ...        ...        ...\n",
       "  WISE 2302-7134 345.619196 -71.578222\n",
       "  WISE 2313-8037 348.403564 -80.617175\n",
       "  WISE 2319-1844 349.913188 -18.734474\n",
       "  ULAS 2321+1354 350.349333  13.914238\n",
       "  ULAS 2326+0201 351.502016   2.027545\n",
       "  WISE 2332-4325 353.110751 -43.419959\n",
       "  WISE 2343-7418 355.965092 -74.312845\n",
       "  WISE 2344+1034 356.193582  10.570956\n",
       "  WISE 2354+0240 358.512041   2.670263\n",
       "  WISE 2357+1227 359.318798  12.460976"
      ]
     },
     "execution_count": 61,
     "metadata": {},
     "output_type": "execute_result"
    }
   ],
   "source": [
    "candidate_stars"
   ]
  },
  {
   "cell_type": "code",
   "execution_count": null,
   "metadata": {},
   "outputs": [],
   "source": []
  }
 ],
 "metadata": {
  "kernelspec": {
   "display_name": "Python 3",
   "language": "python",
   "name": "python3"
  },
  "language_info": {
   "codemirror_mode": {
    "name": "ipython",
    "version": 3
   },
   "file_extension": ".py",
   "mimetype": "text/x-python",
   "name": "python",
   "nbconvert_exporter": "python",
   "pygments_lexer": "ipython3",
   "version": "3.7.1"
  }
 },
 "nbformat": 4,
 "nbformat_minor": 2
}
